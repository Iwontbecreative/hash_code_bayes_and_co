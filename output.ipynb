{
 "cells": [
  {
   "cell_type": "code",
   "execution_count": 31,
   "metadata": {
    "collapsed": true
   },
   "outputs": [],
   "source": [
    "import numpy as np\n",
    "def print_server(server_id, videos_array, file):    \n",
    "    videos_array_str = list(map(str, videos_array))\n",
    "    array = [server_id]\n",
    "    array.extend(videos_array_str)\n",
    "    file.write(\" \".join(array))\n",
    "    return array\n",
    "\n",
    "filename = 'test_file'\n",
    "with open(filename, 'a') as file:\n",
    "    print_server(server_id, videos_array, file)\n",
    "    "
   ]
  },
  {
   "cell_type": "code",
   "execution_count": 33,
   "metadata": {
    "collapsed": false
   },
   "outputs": [],
   "source": []
  }
 ],
 "metadata": {
  "kernelspec": {
   "display_name": "Python [conda env:py34]",
   "language": "python",
   "name": "conda-env-py34-py"
  },
  "language_info": {
   "codemirror_mode": {
    "name": "ipython",
    "version": 3
   },
   "file_extension": ".py",
   "mimetype": "text/x-python",
   "name": "python",
   "nbconvert_exporter": "python",
   "pygments_lexer": "ipython3",
   "version": "3.4.5"
  }
 },
 "nbformat": 4,
 "nbformat_minor": 2
}
