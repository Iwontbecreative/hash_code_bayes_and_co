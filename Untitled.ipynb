{
 "cells": [
  {
   "cell_type": "code",
   "execution_count": 27,
   "metadata": {
    "collapsed": false
   },
   "outputs": [
    {
     "name": "stdout",
     "output_type": "stream",
     "text": [
      "The autoreload extension is already loaded. To reload it, use:\n",
      "  %reload_ext autoreload\n"
     ]
    }
   ],
   "source": [
    "%load_ext autoreload\n",
    "%autoreload 2"
   ]
  },
  {
   "cell_type": "code",
   "execution_count": 28,
   "metadata": {
    "collapsed": true
   },
   "outputs": [],
   "source": [
    "from parser import Parser"
   ]
  },
  {
   "cell_type": "code",
   "execution_count": 44,
   "metadata": {
    "collapsed": true
   },
   "outputs": [],
   "source": [
    "parser = Parser('data/me_at_the_zoo.in')"
   ]
  },
  {
   "cell_type": "code",
   "execution_count": 46,
   "metadata": {
    "collapsed": false
   },
   "outputs": [],
   "source": [
    "parser.parse()"
   ]
  },
  {
   "cell_type": "code",
   "execution_count": 47,
   "metadata": {
    "collapsed": false
   },
   "outputs": [
    {
     "data": {
      "text/plain": [
       "[<endpoint.Request at 0x7f9e852ec780>,\n",
       " <endpoint.Request at 0x7f9e852ecfd0>,\n",
       " <endpoint.Request at 0x7f9e84c2cfd0>,\n",
       " <endpoint.Request at 0x7f9e84c2c390>,\n",
       " <endpoint.Request at 0x7f9e84c2c2e8>,\n",
       " <endpoint.Request at 0x7f9e84c2c710>,\n",
       " <endpoint.Request at 0x7f9e84c2c860>,\n",
       " <endpoint.Request at 0x7f9e84c2c588>,\n",
       " <endpoint.Request at 0x7f9e84c2cd68>,\n",
       " <endpoint.Request at 0x7f9e84c2c208>,\n",
       " <endpoint.Request at 0x7f9e904ed358>,\n",
       " <endpoint.Request at 0x7f9e904ed6a0>,\n",
       " <endpoint.Request at 0x7f9e906a11d0>,\n",
       " <endpoint.Request at 0x7f9e90124c50>,\n",
       " <endpoint.Request at 0x7f9e90124fd0>,\n",
       " <endpoint.Request at 0x7f9e90124550>,\n",
       " <endpoint.Request at 0x7f9e90124b38>,\n",
       " <endpoint.Request at 0x7f9e90124710>,\n",
       " <endpoint.Request at 0x7f9e901245c0>,\n",
       " <endpoint.Request at 0x7f9e90124dd8>,\n",
       " <endpoint.Request at 0x7f9e90124ac8>]"
      ]
     },
     "execution_count": 47,
     "metadata": {},
     "output_type": "execute_result"
    }
   ],
   "source": [
    "parser.videos[0].requests"
   ]
  }
 ],
 "metadata": {
  "kernelspec": {
   "display_name": "Python 3",
   "language": "python",
   "name": "python3"
  },
  "language_info": {
   "codemirror_mode": {
    "name": "ipython",
    "version": 3
   },
   "file_extension": ".py",
   "mimetype": "text/x-python",
   "name": "python",
   "nbconvert_exporter": "python",
   "pygments_lexer": "ipython3",
   "version": "3.5.2+"
  }
 },
 "nbformat": 4,
 "nbformat_minor": 2
}
